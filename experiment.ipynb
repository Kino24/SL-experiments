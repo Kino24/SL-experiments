{
 "cells": [
  {
   "cell_type": "code",
   "execution_count": 39,
   "metadata": {},
   "outputs": [
    {
     "name": "stdout",
     "output_type": "stream",
     "text": [
      "2.14.0\n"
     ]
    }
   ],
   "source": [
    "from keras.preprocessing.image import ImageDataGenerator\n",
    "import keras\n",
    "from keras.models import Sequential\n",
    "from keras.layers import Input, Dense\n",
    "from keras.applications import ResNet50\n",
    "from keras.applications.resnet50 import preprocess_input\n",
    "import os\n",
    "print(keras.__version__)"
   ]
  },
  {
   "cell_type": "code",
   "execution_count": 40,
   "metadata": {},
   "outputs": [
    {
     "data": {
      "text/plain": [
       "''"
      ]
     },
     "execution_count": 40,
     "metadata": {},
     "output_type": "execute_result"
    }
   ],
   "source": [
    "num_classes = 8\n",
    "\n",
    "image_resize = 224\n",
    "\n",
    "batch_size_training = 5\n",
    "batch_size_validation = 5\n",
    "script_dir = os.path.dirname('experiment.ipynb')\n",
    "script_dir"
   ]
  },
  {
   "cell_type": "code",
   "execution_count": 41,
   "metadata": {},
   "outputs": [],
   "source": [
    "data_generator = ImageDataGenerator(\n",
    "    preprocessing_function=preprocess_input,\n",
    ")"
   ]
  },
  {
   "cell_type": "code",
   "execution_count": 42,
   "metadata": {},
   "outputs": [
    {
     "name": "stdout",
     "output_type": "stream",
     "text": [
      "Found 924 images belonging to 8 classes.\n"
     ]
    }
   ],
   "source": [
    "train_generator = data_generator.flow_from_directory(\n",
    "    './skin-disease-datasaet/train_set',\n",
    "    target_size=(image_resize, image_resize),\n",
    "    batch_size=batch_size_training,\n",
    "    class_mode='categorical')"
   ]
  },
  {
   "cell_type": "code",
   "execution_count": 43,
   "metadata": {},
   "outputs": [
    {
     "name": "stdout",
     "output_type": "stream",
     "text": [
      "Found 233 images belonging to 8 classes.\n"
     ]
    }
   ],
   "source": [
    "validation_generator = data_generator.flow_from_directory(\n",
    "    './skin-disease-datasaet/test_set/',\n",
    "    target_size=(image_resize, image_resize),\n",
    "    batch_size=batch_size_validation,\n",
    "    class_mode='categorical')"
   ]
  },
  {
   "cell_type": "code",
   "execution_count": 44,
   "metadata": {},
   "outputs": [],
   "source": [
    "model=Sequential()\n",
    "model.add(ResNet50(include_top=False,pooling='avg',weights='imagenet'))"
   ]
  },
  {
   "cell_type": "code",
   "execution_count": 45,
   "metadata": {},
   "outputs": [
    {
     "data": {
      "text/plain": [
       "[<keras.src.engine.functional.Functional at 0x25cbe82ed10>,\n",
       " <keras.src.layers.core.dense.Dense at 0x25cbf27fa10>]"
      ]
     },
     "execution_count": 45,
     "metadata": {},
     "output_type": "execute_result"
    }
   ],
   "source": [
    "model.add(Dense(num_classes, activation='softmax'))\n",
    "model.layers"
   ]
  },
  {
   "cell_type": "code",
   "execution_count": 46,
   "metadata": {},
   "outputs": [
    {
     "data": {
      "text/plain": [
       "[<keras.src.engine.input_layer.InputLayer at 0x25cbe54f710>,\n",
       " <keras.src.layers.reshaping.zero_padding2d.ZeroPadding2D at 0x25cbe54e610>,\n",
       " <keras.src.layers.convolutional.conv2d.Conv2D at 0x25cbe52ba10>,\n",
       " <keras.src.layers.normalization.batch_normalization.BatchNormalization at 0x25cbe0eb0d0>,\n",
       " <keras.src.layers.core.activation.Activation at 0x25cbe394b90>,\n",
       " <keras.src.layers.reshaping.zero_padding2d.ZeroPadding2D at 0x25cbe365c50>,\n",
       " <keras.src.layers.pooling.max_pooling2d.MaxPooling2D at 0x25cb6fb2d50>,\n",
       " <keras.src.layers.convolutional.conv2d.Conv2D at 0x25cbe39fbd0>,\n",
       " <keras.src.layers.normalization.batch_normalization.BatchNormalization at 0x25cbe0c7550>,\n",
       " <keras.src.layers.core.activation.Activation at 0x25cbe402190>,\n",
       " <keras.src.layers.convolutional.conv2d.Conv2D at 0x25cbe3cc610>,\n",
       " <keras.src.layers.normalization.batch_normalization.BatchNormalization at 0x25cbdfc7950>,\n",
       " <keras.src.layers.core.activation.Activation at 0x25cbe4e7a50>,\n",
       " <keras.src.layers.convolutional.conv2d.Conv2D at 0x25cb7082910>,\n",
       " <keras.src.layers.convolutional.conv2d.Conv2D at 0x25cbe48c590>,\n",
       " <keras.src.layers.normalization.batch_normalization.BatchNormalization at 0x25cbe3ebe90>,\n",
       " <keras.src.layers.normalization.batch_normalization.BatchNormalization at 0x25cbe0c5150>,\n",
       " <keras.src.layers.merging.add.Add at 0x25cbdfaca10>,\n",
       " <keras.src.layers.core.activation.Activation at 0x25cbe461f90>,\n",
       " <keras.src.layers.convolutional.conv2d.Conv2D at 0x25cbe2c6d50>,\n",
       " <keras.src.layers.normalization.batch_normalization.BatchNormalization at 0x25cbe4683d0>,\n",
       " <keras.src.layers.core.activation.Activation at 0x25cbe469750>,\n",
       " <keras.src.layers.convolutional.conv2d.Conv2D at 0x25cbe4a9b10>,\n",
       " <keras.src.layers.normalization.batch_normalization.BatchNormalization at 0x25cbe376e10>,\n",
       " <keras.src.layers.core.activation.Activation at 0x25cbe48b010>,\n",
       " <keras.src.layers.convolutional.conv2d.Conv2D at 0x25cbe546cd0>,\n",
       " <keras.src.layers.normalization.batch_normalization.BatchNormalization at 0x25cff443990>,\n",
       " <keras.src.layers.merging.add.Add at 0x25cbe535310>,\n",
       " <keras.src.layers.core.activation.Activation at 0x25cb6e412d0>,\n",
       " <keras.src.layers.convolutional.conv2d.Conv2D at 0x25cbe4a3a50>,\n",
       " <keras.src.layers.normalization.batch_normalization.BatchNormalization at 0x25cbe484c10>,\n",
       " <keras.src.layers.core.activation.Activation at 0x25cbe53ee90>,\n",
       " <keras.src.layers.convolutional.conv2d.Conv2D at 0x25cbdfafdd0>,\n",
       " <keras.src.layers.normalization.batch_normalization.BatchNormalization at 0x25cbe484290>,\n",
       " <keras.src.layers.core.activation.Activation at 0x25cbe468110>,\n",
       " <keras.src.layers.convolutional.conv2d.Conv2D at 0x25cbe3e83d0>,\n",
       " <keras.src.layers.normalization.batch_normalization.BatchNormalization at 0x25cbe44c9d0>,\n",
       " <keras.src.layers.merging.add.Add at 0x25cbe4e4850>,\n",
       " <keras.src.layers.core.activation.Activation at 0x25cbe48bf50>,\n",
       " <keras.src.layers.convolutional.conv2d.Conv2D at 0x25cbe5fa790>,\n",
       " <keras.src.layers.normalization.batch_normalization.BatchNormalization at 0x25cbe5fb710>,\n",
       " <keras.src.layers.core.activation.Activation at 0x25cbe5481d0>,\n",
       " <keras.src.layers.convolutional.conv2d.Conv2D at 0x25cbe6107d0>,\n",
       " <keras.src.layers.normalization.batch_normalization.BatchNormalization at 0x25cbe60b110>,\n",
       " <keras.src.layers.core.activation.Activation at 0x25cbe4bbd10>,\n",
       " <keras.src.layers.convolutional.conv2d.Conv2D at 0x25cbe56ac10>,\n",
       " <keras.src.layers.convolutional.conv2d.Conv2D at 0x25cbe623d50>,\n",
       " <keras.src.layers.normalization.batch_normalization.BatchNormalization at 0x25cba2378d0>,\n",
       " <keras.src.layers.normalization.batch_normalization.BatchNormalization at 0x25cbe61b7d0>,\n",
       " <keras.src.layers.merging.add.Add at 0x25cbe639010>,\n",
       " <keras.src.layers.core.activation.Activation at 0x25cbe41d2d0>,\n",
       " <keras.src.layers.convolutional.conv2d.Conv2D at 0x25cb6fad090>,\n",
       " <keras.src.layers.normalization.batch_normalization.BatchNormalization at 0x25cbe623990>,\n",
       " <keras.src.layers.core.activation.Activation at 0x25cbe623890>,\n",
       " <keras.src.layers.convolutional.conv2d.Conv2D at 0x25cbe62c150>,\n",
       " <keras.src.layers.normalization.batch_normalization.BatchNormalization at 0x25cbe619410>,\n",
       " <keras.src.layers.core.activation.Activation at 0x25cbe618c10>,\n",
       " <keras.src.layers.convolutional.conv2d.Conv2D at 0x25cbe548610>,\n",
       " <keras.src.layers.normalization.batch_normalization.BatchNormalization at 0x25cbe54a610>,\n",
       " <keras.src.layers.merging.add.Add at 0x25cbe4e4510>,\n",
       " <keras.src.layers.core.activation.Activation at 0x25cbe608dd0>,\n",
       " <keras.src.layers.convolutional.conv2d.Conv2D at 0x25cbe3a4ad0>,\n",
       " <keras.src.layers.normalization.batch_normalization.BatchNormalization at 0x25cbe46a9d0>,\n",
       " <keras.src.layers.core.activation.Activation at 0x25cbe641750>,\n",
       " <keras.src.layers.convolutional.conv2d.Conv2D at 0x25cbe64c0d0>,\n",
       " <keras.src.layers.normalization.batch_normalization.BatchNormalization at 0x25cbdfb0750>,\n",
       " <keras.src.layers.core.activation.Activation at 0x25cbe469f90>,\n",
       " <keras.src.layers.convolutional.conv2d.Conv2D at 0x25cbe657dd0>,\n",
       " <keras.src.layers.normalization.batch_normalization.BatchNormalization at 0x25cbe64cf50>,\n",
       " <keras.src.layers.merging.add.Add at 0x25cbe6653d0>,\n",
       " <keras.src.layers.core.activation.Activation at 0x25cbe63b350>,\n",
       " <keras.src.layers.convolutional.conv2d.Conv2D at 0x25cbe666190>,\n",
       " <keras.src.layers.normalization.batch_normalization.BatchNormalization at 0x25cbe400510>,\n",
       " <keras.src.layers.core.activation.Activation at 0x25cbe67b750>,\n",
       " <keras.src.layers.convolutional.conv2d.Conv2D at 0x25cbe688a10>,\n",
       " <keras.src.layers.normalization.batch_normalization.BatchNormalization at 0x25cbe692250>,\n",
       " <keras.src.layers.core.activation.Activation at 0x25cb6fe5d10>,\n",
       " <keras.src.layers.convolutional.conv2d.Conv2D at 0x25cbe668b10>,\n",
       " <keras.src.layers.normalization.batch_normalization.BatchNormalization at 0x25cbe66a690>,\n",
       " <keras.src.layers.merging.add.Add at 0x25cbe669490>,\n",
       " <keras.src.layers.core.activation.Activation at 0x25cbe68ad50>,\n",
       " <keras.src.layers.convolutional.conv2d.Conv2D at 0x25cbe5f8b50>,\n",
       " <keras.src.layers.normalization.batch_normalization.BatchNormalization at 0x25cbe609e50>,\n",
       " <keras.src.layers.core.activation.Activation at 0x25cbe641990>,\n",
       " <keras.src.layers.convolutional.conv2d.Conv2D at 0x25cbe642750>,\n",
       " <keras.src.layers.normalization.batch_normalization.BatchNormalization at 0x25cbe6a6c90>,\n",
       " <keras.src.layers.core.activation.Activation at 0x25cbe664f90>,\n",
       " <keras.src.layers.convolutional.conv2d.Conv2D at 0x25cbe64e310>,\n",
       " <keras.src.layers.convolutional.conv2d.Conv2D at 0x25cbe69ae50>,\n",
       " <keras.src.layers.normalization.batch_normalization.BatchNormalization at 0x25cbe64d990>,\n",
       " <keras.src.layers.normalization.batch_normalization.BatchNormalization at 0x25cbe6b7090>,\n",
       " <keras.src.layers.merging.add.Add at 0x25cbe66b890>,\n",
       " <keras.src.layers.core.activation.Activation at 0x25cbe618550>,\n",
       " <keras.src.layers.convolutional.conv2d.Conv2D at 0x25cbe6d8a10>,\n",
       " <keras.src.layers.normalization.batch_normalization.BatchNormalization at 0x25cbe6cb910>,\n",
       " <keras.src.layers.core.activation.Activation at 0x25cbe6cbf10>,\n",
       " <keras.src.layers.convolutional.conv2d.Conv2D at 0x25cbe6e4b90>,\n",
       " <keras.src.layers.normalization.batch_normalization.BatchNormalization at 0x25cbe6d9e50>,\n",
       " <keras.src.layers.core.activation.Activation at 0x25cbe6f29d0>,\n",
       " <keras.src.layers.convolutional.conv2d.Conv2D at 0x25cbe6f6290>,\n",
       " <keras.src.layers.normalization.batch_normalization.BatchNormalization at 0x25cbe6f7a90>,\n",
       " <keras.src.layers.merging.add.Add at 0x25cbe6f4110>,\n",
       " <keras.src.layers.core.activation.Activation at 0x25cbe6d9850>,\n",
       " <keras.src.layers.convolutional.conv2d.Conv2D at 0x25cbe6ca7d0>,\n",
       " <keras.src.layers.normalization.batch_normalization.BatchNormalization at 0x25cbe6b7810>,\n",
       " <keras.src.layers.core.activation.Activation at 0x25cbdfac690>,\n",
       " <keras.src.layers.convolutional.conv2d.Conv2D at 0x25cbe623650>,\n",
       " <keras.src.layers.normalization.batch_normalization.BatchNormalization at 0x25cbe5680d0>,\n",
       " <keras.src.layers.core.activation.Activation at 0x25cbe64d1d0>,\n",
       " <keras.src.layers.convolutional.conv2d.Conv2D at 0x25cbe654fd0>,\n",
       " <keras.src.layers.normalization.batch_normalization.BatchNormalization at 0x25cbe6682d0>,\n",
       " <keras.src.layers.merging.add.Add at 0x25cbe6f5810>,\n",
       " <keras.src.layers.core.activation.Activation at 0x25cbe6a5710>,\n",
       " <keras.src.layers.convolutional.conv2d.Conv2D at 0x25cbe70ab90>,\n",
       " <keras.src.layers.normalization.batch_normalization.BatchNormalization at 0x25cbe6fea50>,\n",
       " <keras.src.layers.core.activation.Activation at 0x25cbe71c490>,\n",
       " <keras.src.layers.convolutional.conv2d.Conv2D at 0x25cbe550ed0>,\n",
       " <keras.src.layers.normalization.batch_normalization.BatchNormalization at 0x25cbe71e290>,\n",
       " <keras.src.layers.core.activation.Activation at 0x25cbe719cd0>,\n",
       " <keras.src.layers.convolutional.conv2d.Conv2D at 0x25cbe738990>,\n",
       " <keras.src.layers.normalization.batch_normalization.BatchNormalization at 0x25cbe7309d0>,\n",
       " <keras.src.layers.merging.add.Add at 0x25cbe743250>,\n",
       " <keras.src.layers.core.activation.Activation at 0x25cbe642310>,\n",
       " <keras.src.layers.convolutional.conv2d.Conv2D at 0x25cbe718350>,\n",
       " <keras.src.layers.normalization.batch_normalization.BatchNormalization at 0x25cbe738650>,\n",
       " <keras.src.layers.core.activation.Activation at 0x25cbe75c490>,\n",
       " <keras.src.layers.convolutional.conv2d.Conv2D at 0x25cb7042290>,\n",
       " <keras.src.layers.normalization.batch_normalization.BatchNormalization at 0x25cbe74a410>,\n",
       " <keras.src.layers.core.activation.Activation at 0x25cbe7498d0>,\n",
       " <keras.src.layers.convolutional.conv2d.Conv2D at 0x25cbe75ff50>,\n",
       " <keras.src.layers.normalization.batch_normalization.BatchNormalization at 0x25cbe71e910>,\n",
       " <keras.src.layers.merging.add.Add at 0x25cbe722e90>,\n",
       " <keras.src.layers.core.activation.Activation at 0x25cbe67af90>,\n",
       " <keras.src.layers.convolutional.conv2d.Conv2D at 0x25cbe6a6f50>,\n",
       " <keras.src.layers.normalization.batch_normalization.BatchNormalization at 0x25cbe6e6590>,\n",
       " <keras.src.layers.core.activation.Activation at 0x25cbe6b1e10>,\n",
       " <keras.src.layers.convolutional.conv2d.Conv2D at 0x25cbe666890>,\n",
       " <keras.src.layers.normalization.batch_normalization.BatchNormalization at 0x25cbe6ffb10>,\n",
       " <keras.src.layers.core.activation.Activation at 0x25cbe6a7350>,\n",
       " <keras.src.layers.convolutional.conv2d.Conv2D at 0x25cbe77e150>,\n",
       " <keras.src.layers.normalization.batch_normalization.BatchNormalization at 0x25cbe7664d0>,\n",
       " <keras.src.layers.merging.add.Add at 0x25cbe790890>,\n",
       " <keras.src.layers.core.activation.Activation at 0x25cbe77c710>,\n",
       " <keras.src.layers.convolutional.conv2d.Conv2D at 0x25cbe7a0e90>,\n",
       " <keras.src.layers.normalization.batch_normalization.BatchNormalization at 0x25cbe7a0750>,\n",
       " <keras.src.layers.core.activation.Activation at 0x25cbe7a43d0>,\n",
       " <keras.src.layers.convolutional.conv2d.Conv2D at 0x25cbe7a1d90>,\n",
       " <keras.src.layers.normalization.batch_normalization.BatchNormalization at 0x25cbe7b30d0>,\n",
       " <keras.src.layers.core.activation.Activation at 0x25cbe7c5d10>,\n",
       " <keras.src.layers.convolutional.conv2d.Conv2D at 0x25cbe7a1e50>,\n",
       " <keras.src.layers.convolutional.conv2d.Conv2D at 0x25cbe7b4550>,\n",
       " <keras.src.layers.normalization.batch_normalization.BatchNormalization at 0x25cbe6668d0>,\n",
       " <keras.src.layers.normalization.batch_normalization.BatchNormalization at 0x25cbe7b3d90>,\n",
       " <keras.src.layers.merging.add.Add at 0x25cbe7b0850>,\n",
       " <keras.src.layers.core.activation.Activation at 0x25cbe6c3e50>,\n",
       " <keras.src.layers.convolutional.conv2d.Conv2D at 0x25cbe774dd0>,\n",
       " <keras.src.layers.normalization.batch_normalization.BatchNormalization at 0x25cbe6fdf90>,\n",
       " <keras.src.layers.core.activation.Activation at 0x25cbe777310>,\n",
       " <keras.src.layers.convolutional.conv2d.Conv2D at 0x25cbe709c90>,\n",
       " <keras.src.layers.normalization.batch_normalization.BatchNormalization at 0x25cbe6fd390>,\n",
       " <keras.src.layers.core.activation.Activation at 0x25cbe71d5d0>,\n",
       " <keras.src.layers.convolutional.conv2d.Conv2D at 0x25cbe7d2e10>,\n",
       " <keras.src.layers.normalization.batch_normalization.BatchNormalization at 0x25cbe7d0090>,\n",
       " <keras.src.layers.merging.add.Add at 0x25cbe7e5950>,\n",
       " <keras.src.layers.core.activation.Activation at 0x25cbe730790>,\n",
       " <keras.src.layers.convolutional.conv2d.Conv2D at 0x25cbe7f20d0>,\n",
       " <keras.src.layers.normalization.batch_normalization.BatchNormalization at 0x25cbe7a4150>,\n",
       " <keras.src.layers.core.activation.Activation at 0x25cbe7f3fd0>,\n",
       " <keras.src.layers.convolutional.conv2d.Conv2D at 0x25cbe7e9890>,\n",
       " <keras.src.layers.normalization.batch_normalization.BatchNormalization at 0x25cbe70af10>,\n",
       " <keras.src.layers.core.activation.Activation at 0x25cbe6a5210>,\n",
       " <keras.src.layers.convolutional.conv2d.Conv2D at 0x25cbe80d010>,\n",
       " <keras.src.layers.normalization.batch_normalization.BatchNormalization at 0x25cbe80d090>,\n",
       " <keras.src.layers.merging.add.Add at 0x25cbe723a10>,\n",
       " <keras.src.layers.core.activation.Activation at 0x25cbe80da90>,\n",
       " <keras.src.layers.pooling.global_average_pooling2d.GlobalAveragePooling2D at 0x25cbe803a90>]"
      ]
     },
     "execution_count": 46,
     "metadata": {},
     "output_type": "execute_result"
    }
   ],
   "source": [
    "model.layers[0].layers"
   ]
  },
  {
   "cell_type": "code",
   "execution_count": 47,
   "metadata": {},
   "outputs": [],
   "source": [
    "model.layers[0].trainable = False"
   ]
  },
  {
   "cell_type": "code",
   "execution_count": 48,
   "metadata": {},
   "outputs": [
    {
     "name": "stdout",
     "output_type": "stream",
     "text": [
      "Model: \"sequential_1\"\n",
      "_________________________________________________________________\n",
      " Layer (type)                Output Shape              Param #   \n",
      "=================================================================\n",
      " resnet50 (Functional)       (None, 2048)              23587712  \n",
      "                                                                 \n",
      " dense_2 (Dense)             (None, 8)                 16392     \n",
      "                                                                 \n",
      "=================================================================\n",
      "Total params: 23604104 (90.04 MB)\n",
      "Trainable params: 16392 (64.03 KB)\n",
      "Non-trainable params: 23587712 (89.98 MB)\n",
      "_________________________________________________________________\n"
     ]
    }
   ],
   "source": [
    "model.summary()"
   ]
  },
  {
   "cell_type": "code",
   "execution_count": 49,
   "metadata": {},
   "outputs": [],
   "source": [
    "model.compile(optimizer='adam', loss='categorical_crossentropy', metrics=['accuracy'])"
   ]
  },
  {
   "cell_type": "code",
   "execution_count": 55,
   "metadata": {},
   "outputs": [
    {
     "name": "stdout",
     "output_type": "stream",
     "text": [
      "50\n"
     ]
    }
   ],
   "source": [
    "steps_per_epoch_training = 50\n",
    "steps_per_epoch_validation = 50\n",
    "num_epochs = 15\n",
    "print (steps_per_epoch_validation)"
   ]
  },
  {
   "cell_type": "code",
   "execution_count": 56,
   "metadata": {},
   "outputs": [
    {
     "name": "stdout",
     "output_type": "stream",
     "text": [
      "Epoch 1/15\n",
      "50/50 [==============================] - 16s 313ms/step - loss: 0.0123 - accuracy: 1.0000\n",
      "Epoch 2/15\n",
      "50/50 [==============================] - 15s 301ms/step - loss: 0.0073 - accuracy: 1.0000\n",
      "Epoch 3/15\n",
      "50/50 [==============================] - 15s 303ms/step - loss: 0.0080 - accuracy: 1.0000\n",
      "Epoch 4/15\n",
      "50/50 [==============================] - 16s 310ms/step - loss: 0.0095 - accuracy: 1.0000\n",
      "Epoch 5/15\n",
      "50/50 [==============================] - 16s 314ms/step - loss: 0.0088 - accuracy: 1.0000\n",
      "Epoch 6/15\n",
      "50/50 [==============================] - 15s 308ms/step - loss: 0.0064 - accuracy: 1.0000\n",
      "Epoch 7/15\n",
      "50/50 [==============================] - 16s 323ms/step - loss: 0.0091 - accuracy: 1.0000\n",
      "Epoch 8/15\n",
      "50/50 [==============================] - 17s 340ms/step - loss: 0.0085 - accuracy: 1.0000\n",
      "Epoch 9/15\n",
      "50/50 [==============================] - 18s 352ms/step - loss: 0.0062 - accuracy: 1.0000\n",
      "Epoch 10/15\n",
      "50/50 [==============================] - 16s 315ms/step - loss: 0.0065 - accuracy: 1.0000\n",
      "Epoch 11/15\n",
      "50/50 [==============================] - 19s 380ms/step - loss: 0.0061 - accuracy: 1.0000\n",
      "Epoch 12/15\n",
      "50/50 [==============================] - 18s 353ms/step - loss: 0.0056 - accuracy: 1.0000\n",
      "Epoch 13/15\n",
      "50/50 [==============================] - 16s 319ms/step - loss: 0.0057 - accuracy: 1.0000\n",
      "Epoch 14/15\n",
      "50/50 [==============================] - 16s 314ms/step - loss: 0.0057 - accuracy: 1.0000\n",
      "Epoch 15/15\n",
      "50/50 [==============================] - 16s 317ms/step - loss: 0.0058 - accuracy: 1.0000\n"
     ]
    }
   ],
   "source": [
    "fit_history = model.fit(\n",
    "    train_generator,\n",
    "    steps_per_epoch=steps_per_epoch_training,\n",
    "    epochs=num_epochs,\n",
    "    validation_data=validation_generator,\n",
    "    validation_steps=steps_per_epoch_validation,\n",
    "    verbose=1,\n",
    ")"
   ]
  },
  {
   "cell_type": "code",
   "execution_count": 57,
   "metadata": {},
   "outputs": [
    {
     "name": "stderr",
     "output_type": "stream",
     "text": [
      "c:\\Users\\user\\.pyenv\\pyenv-win\\versions\\3.11.6\\Lib\\site-packages\\keras\\src\\engine\\training.py:3079: UserWarning: You are saving your model as an HDF5 file via `model.save()`. This file format is considered legacy. We recommend using instead the native Keras format, e.g. `model.save('my_model.keras')`.\n",
      "  saving_api.save_model(\n"
     ]
    }
   ],
   "source": [
    "model.save('classifier_resnet_model.h5')"
   ]
  }
 ],
 "metadata": {
  "kernelspec": {
   "display_name": "Python 3",
   "language": "python",
   "name": "python3"
  },
  "language_info": {
   "codemirror_mode": {
    "name": "ipython",
    "version": 3
   },
   "file_extension": ".py",
   "mimetype": "text/x-python",
   "name": "python",
   "nbconvert_exporter": "python",
   "pygments_lexer": "ipython3",
   "version": "3.11.6"
  }
 },
 "nbformat": 4,
 "nbformat_minor": 2
}
